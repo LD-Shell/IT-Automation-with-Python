{
  "nbformat": 4,
  "nbformat_minor": 0,
  "metadata": {
    "colab": {
      "provenance": [],
      "authorship_tag": "ABX9TyMGcMUA0Wr2xjT1WYEVCDDm",
      "include_colab_link": true
    },
    "kernelspec": {
      "name": "python3",
      "display_name": "Python 3"
    },
    "language_info": {
      "name": "python"
    }
  },
  "cells": [
    {
      "cell_type": "markdown",
      "metadata": {
        "id": "view-in-github",
        "colab_type": "text"
      },
      "source": [
        "<a href=\"https://colab.research.google.com/github/LD-Shell/IT-Automation-with-Python/blob/master/Exercise_on_List.ipynb\" target=\"_parent\"><img src=\"https://colab.research.google.com/assets/colab-badge.svg\" alt=\"Open In Colab\"/></a>"
      ]
    },
    {
      "cell_type": "markdown",
      "source": [
        "**Google IT Automation with Python — My solutions to Unit 4**"
      ],
      "metadata": {
        "id": "5P28pLKYmMo7"
      }
    },
    {
      "cell_type": "markdown",
      "source": [
        "![image.png](data:image/png;base64,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)"
      ],
      "metadata": {
        "id": "96iX3HlRmeDg"
      }
    },
    {
      "cell_type": "code",
      "execution_count": 1,
      "metadata": {
        "colab": {
          "base_uri": "https://localhost:8080/"
        },
        "id": "HUs98W4wmHZ4",
        "outputId": "f2f4e897-aa1b-41e5-999e-a5e642ed1b0b"
      },
      "outputs": [
        {
          "output_type": "stream",
          "name": "stdout",
          "text": [
            "['program.c', 'stdio.h', 'sample.h', 'a.out', 'math.h', 'hpp.out']\n"
          ]
        }
      ],
      "source": [
        "filenames = [\"program.c\", \"stdio.hpp\", \"sample.hpp\", \"a.out\", \"math.hpp\", \"hpp.out\"]\n",
        "# Generate newfilenames as a list containing the new filenames\n",
        "# using as many lines of code as your chosen method requires.\n",
        "newfilenames = []\n",
        "for filename in filenames:\n",
        "    if filename.endswith('.hpp'):\n",
        "        filename=filename.replace('.hpp','.h')\n",
        "    newfilenames.append(filename)\n",
        "print(newfilenames)\n",
        "# Should be [\"program.c\", \"stdio.h\", \"sample.h\", \"a.out\", \"math.h\", \"hpp.out\"]"
      ]
    }
  ]
}