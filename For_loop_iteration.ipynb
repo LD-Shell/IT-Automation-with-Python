{
  "nbformat": 4,
  "nbformat_minor": 0,
  "metadata": {
    "colab": {
      "provenance": [],
      "authorship_tag": "ABX9TyM1atbhX57JGPRakYZ4uvbY",
      "include_colab_link": true
    },
    "kernelspec": {
      "name": "python3",
      "display_name": "Python 3"
    },
    "language_info": {
      "name": "python"
    }
  },
  "cells": [
    {
      "cell_type": "markdown",
      "metadata": {
        "id": "view-in-github",
        "colab_type": "text"
      },
      "source": [
        "<a href=\"https://colab.research.google.com/github/LD-Shell/IT-Automation-with-Python/blob/master/For_loop_iteration.ipynb\" target=\"_parent\"><img src=\"https://colab.research.google.com/assets/colab-badge.svg\" alt=\"Open In Colab\"/></a>"
      ]
    },
    {
      "cell_type": "markdown",
      "source": [
        "**Useful Example — iteration over a list using enumerate**\n",
        "\n",
        "---\n",
        "\n"
      ],
      "metadata": {
        "id": "EgqBSnH9O9v_"
      }
    },
    {
      "cell_type": "code",
      "execution_count": 7,
      "metadata": {
        "colab": {
          "base_uri": "https://localhost:8080/"
        },
        "id": "w6BJTp5sOZBR",
        "outputId": "4d7bdb82-32d8-47d7-e544-f90f630d83fb"
      },
      "outputs": [
        {
          "output_type": "stream",
          "name": "stdout",
          "text": [
            "['a', 'c', 'e', 'g']\n",
            "['Orange', 'Strawberry', 'Peach']\n"
          ]
        }
      ],
      "source": [
        "#!/usr/bin/env python3\n",
        "#Define a function called skip_elements that takes a list called elements as input\n",
        "def skip_elements(elements):\n",
        "#Initialize an empty list called result to store the values corresponding to the odd indices\n",
        "  result = []\n",
        "#Iterate through the list elements along with the index using enumerate\n",
        "  for index, value in enumerate(elements):\n",
        "#Check if the current index is not even\n",
        "    if (index+1)%2 != 0:\n",
        "#If it is odd, append the corresponding value to the results list\n",
        "      result.append(value)\n",
        "  return result\n",
        "\n",
        "print(skip_elements([\"a\", \"b\", \"c\", \"d\", \"e\", \"f\", \"g\"])) # Should be ['a', 'c', 'e', 'g']\n",
        "print(skip_elements(['Orange', 'Pineapple', 'Strawberry', 'Kiwi', 'Peach'])) # Should be ['Orange', 'Strawberry', 'Peach']"
      ]
    }
  ]
}