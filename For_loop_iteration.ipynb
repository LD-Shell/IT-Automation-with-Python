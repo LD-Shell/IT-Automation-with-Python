{
  "nbformat": 4,
  "nbformat_minor": 0,
  "metadata": {
    "colab": {
      "provenance": [],
      "authorship_tag": "ABX9TyMhJL79tQSyYB6SUhXNJoqd",
      "include_colab_link": true
    },
    "kernelspec": {
      "name": "python3",
      "display_name": "Python 3"
    },
    "language_info": {
      "name": "python"
    }
  },
  "cells": [
    {
      "cell_type": "markdown",
      "metadata": {
        "id": "view-in-github",
        "colab_type": "text"
      },
      "source": [
        "<a href=\"https://colab.research.google.com/github/LD-Shell/IT-Automation-with-Python/blob/master/For_loop_iteration.ipynb\" target=\"_parent\"><img src=\"https://colab.research.google.com/assets/colab-badge.svg\" alt=\"Open In Colab\"/></a>"
      ]
    },
    {
      "cell_type": "markdown",
      "source": [
        "**Useful Example — iteration over a list using enumerate**\n",
        "\n",
        "---\n",
        "\n"
      ],
      "metadata": {
        "id": "EgqBSnH9O9v_"
      }
    },
    {
      "cell_type": "code",
      "execution_count": 7,
      "metadata": {
        "colab": {
          "base_uri": "https://localhost:8080/"
        },
        "id": "w6BJTp5sOZBR",
        "outputId": "4d7bdb82-32d8-47d7-e544-f90f630d83fb"
      },
      "outputs": [
        {
          "output_type": "stream",
          "name": "stdout",
          "text": [
            "['a', 'c', 'e', 'g']\n",
            "['Orange', 'Strawberry', 'Peach']\n"
          ]
        }
      ],
      "source": [
        "#!/usr/bin/env python3\n",
        "#Define a function called skip_elements that takes a list called elements as input\n",
        "def skip_elements(elements):\n",
        "#Initialize an empty list called result to store the values corresponding to the odd indices\n",
        "  result = []\n",
        "#Iterate through the list elements along with the index using enumerate\n",
        "  for index, value in enumerate(elements):\n",
        "#Check if the current index is not even\n",
        "    if (index+1)%2 != 0:\n",
        "#If it is odd, append the corresponding value to the results list\n",
        "      result.append(value)\n",
        "  return result\n",
        "\n",
        "print(skip_elements([\"a\", \"b\", \"c\", \"d\", \"e\", \"f\", \"g\"])) # Should be ['a', 'c', 'e', 'g']\n",
        "print(skip_elements(['Orange', 'Pineapple', 'Strawberry', 'Kiwi', 'Peach'])) # Should be ['Orange', 'Strawberry', 'Peach']"
      ]
    },
    {
      "cell_type": "markdown",
      "source": [
        "**List comprehension examples**\n",
        "\n",
        "---\n",
        "\n"
      ],
      "metadata": {
        "id": "KrAIPD8BW0IJ"
      }
    },
    {
      "cell_type": "code",
      "source": [
        "### Simple List Comprehension\n",
        "print('Example 1')\n",
        "print(\"List comprehension result:\")\n",
        "print([x*2 for x in range(1,11) if x%2==0])\n",
        "\n",
        "### Long form for loop\n",
        "# The list comprehension above accomplishes the same result as\n",
        "# the long form version of the code:\n",
        "my_list = []\n",
        "for x in range(1,11):\n",
        "  if x%2==0:\n",
        "   my_list.append(x*2)\n",
        "print(\"Long form code result:\")\n",
        "print(my_list)\n",
        "print()\n",
        "print('Example 2')\n",
        "##Another example\n",
        "#This function 'squares' will return a list containing the squares of numbers from 'start' to 'end'\n",
        "def squares(start, end):\n",
        "    return [n**2 for n in range(start, end+1)]\n",
        "\n",
        "print(squares(2, 3))  # Should print [4, 9]\n",
        "print(squares(1, 5))  # Should print [1, 4, 9, 16, 25]\n",
        "print(squares(0, 10)) # Should print [0, 1, 4, 9, 16, 25, 36, 49, 64, 81, 100]\n"
      ],
      "metadata": {
        "colab": {
          "base_uri": "https://localhost:8080/"
        },
        "id": "sdzaK7XISRu-",
        "outputId": "8cbd7ca8-99b7-4dc9-e5c2-207d0de77565"
      },
      "execution_count": 25,
      "outputs": [
        {
          "output_type": "stream",
          "name": "stdout",
          "text": [
            "Example 1\n",
            "List comprehension result:\n",
            "[4, 8, 12, 16, 20]\n",
            "Long form code result:\n",
            "[4, 8, 12, 16, 20]\n",
            "\n",
            "Example 2\n",
            "[4, 9]\n",
            "[1, 4, 9, 16, 25]\n",
            "[0, 1, 4, 9, 16, 25, 36, 49, 64, 81, 100]\n"
          ]
        }
      ]
    }
  ]
}