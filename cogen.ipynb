{
  "nbformat": 4,
  "nbformat_minor": 0,
  "metadata": {
    "colab": {
      "provenance": [],
      "authorship_tag": "ABX9TyPxyt4C9brV6pZ3t8wSZXJm",
      "include_colab_link": true
    },
    "kernelspec": {
      "name": "python3",
      "display_name": "Python 3"
    },
    "language_info": {
      "name": "python"
    }
  },
  "cells": [
    {
      "cell_type": "markdown",
      "metadata": {
        "id": "view-in-github",
        "colab_type": "text"
      },
      "source": [
        "<a href=\"https://colab.research.google.com/github/LD-Shell/IT-Automation-with-Python/blob/master/cogen.ipynb\" target=\"_parent\"><img src=\"https://colab.research.google.com/assets/colab-badge.svg\" alt=\"Open In Colab\"/></a>"
      ]
    },
    {
      "cell_type": "markdown",
      "source": [
        "**Chemical engineering CHP thermo analysis**"
      ],
      "metadata": {
        "id": "9WyxXV69iVIX"
      }
    },
    {
      "cell_type": "code",
      "execution_count": 10,
      "metadata": {
        "id": "dwDdRjk-dzRK",
        "colab": {
          "base_uri": "https://localhost:8080/"
        },
        "outputId": "f0bc89ad-c3b2-4e51-f21d-6e1753084678"
      },
      "outputs": [
        {
          "output_type": "stream",
          "name": "stdout",
          "text": [
            "Enter supply temperature values (separated by spaces or commas): 80 100 59 60 20 10 100\n",
            "Enter target temperature values (separated by spaces or commas): 15 5 30 59 100 90 101\n",
            "Enter heat capacity values if available (separated by spaces or commas): 100 140 5 5000 80 145 6500\n",
            "Enter values for heat duty if available (separated by spaces or commas, optional): \n",
            "Source data provided:\n",
            "     Tsupply Ttarget       Cp          Q\n",
            "hot     80.0    15.0   100.00   -6500.00\n",
            "hot    100.0     5.0   140.00  -13300.00\n",
            "hot     59.0    30.0     5.00    -145.00\n",
            "hot     60.0    59.0  5000.00   -5000.00\n",
            "cold    20.0   100.0    80.00    6400.00\n",
            "cold    10.0    90.0   145.00   11600.00\n",
            "cold   100.0   101.0  6500.00    6500.00\n",
            "\n",
            "Problem Table:\n",
            "   Ttarget  EnthalpyDifference      Cp  HeatLoad\n",
            "0    100.0                80.0    80.0    6400.0\n",
            "1     90.0                80.0   145.0   11600.0\n",
            "2    101.0                 1.0  6500.0    6500.0\n"
          ]
        },
        {
          "output_type": "stream",
          "name": "stderr",
          "text": [
            "<ipython-input-10-1d8f1ab4d000>:44: SettingWithCopyWarning: \n",
            "A value is trying to be set on a copy of a slice from a DataFrame.\n",
            "Try using .loc[row_indexer,col_indexer] = value instead\n",
            "\n",
            "See the caveats in the documentation: https://pandas.pydata.org/pandas-docs/stable/user_guide/indexing.html#returning-a-view-versus-a-copy\n",
            "  cold_df['EnthalpyDifference'] = cold_df['Ttarget'] - cold_df['Tsupply']\n",
            "<ipython-input-10-1d8f1ab4d000>:45: SettingWithCopyWarning: \n",
            "A value is trying to be set on a copy of a slice from a DataFrame.\n",
            "Try using .loc[row_indexer,col_indexer] = value instead\n",
            "\n",
            "See the caveats in the documentation: https://pandas.pydata.org/pandas-docs/stable/user_guide/indexing.html#returning-a-view-versus-a-copy\n",
            "  cold_df['HeatLoad'] = cold_df['EnthalpyDifference'] * cold_df['Cp']\n"
          ]
        }
      ],
      "source": [
        "#!/usr/bin/env python3\n",
        "#shebang tells OS what command to use to execute the script\n",
        "import pandas as pd\n",
        "\n",
        "ts_temps = input(\"Enter supply temperature values (separated by spaces or commas): \")\n",
        "tt_temps = input(\"Enter target temperature values (separated by spaces or commas): \")\n",
        "cp_temps = input(\"Enter heat capacity values if available (separated by spaces or commas): \")\n",
        "q_values = input(\"Enter values for heat duty if available (separated by spaces or commas, optional): \")\n",
        "\n",
        "# Convert input temperatures to lists of floats\n",
        "ts_list = [float(temp) for temp in ts_temps.split()]\n",
        "tt_list = [float(temp) for temp in tt_temps.split()]\n",
        "cp_list = [float(temp) for temp in cp_temps.split()]\n",
        "\n",
        "# Calculate heating duties if not provided\n",
        "q_list = []\n",
        "if q_values:\n",
        "  q_list = [float(value) for value in q_values.split()]\n",
        "else:\n",
        "  q_list = [(tt - ts) * cp for ts, tt, cp in zip(ts_list, tt_list, cp_list)]\n",
        "\n",
        "# Label each stream as hot or cold\n",
        "label_list = ['hot' if ts > tt else 'cold' for ts, tt in zip(ts_list, tt_list)]\n",
        "\n",
        "# Create a dataframe with the calculated source data\n",
        "input_data_str = {\n",
        "    'Tsupply': ['{:.1f}'.format(ts) for ts in ts_list],\n",
        "    'Ttarget': ['{:.1f}'.format(tt) for tt in tt_list],\n",
        "    'Cp': ['{:.2f}'.format(cp) for cp in cp_list],\n",
        "    'Q': ['{:.2f}'.format(q) for q in q_list] }\n",
        "df_str = pd.DataFrame(input_data_str, index=label_list)\n",
        "\n",
        "input_data_float = {'Tsupply': ts_list, 'Ttarget': tt_list, 'Cp': cp_list, 'Q': q_list}\n",
        "df_float = pd.DataFrame(input_data_float, index=label_list)\n",
        "\n",
        "# Display the DataFrame\n",
        "print(\"Source data provided:\")\n",
        "print(df_str)\n",
        "print()\n",
        "\n",
        "# Filter \"cold\" rows\n",
        "cold_df = df_float[df_float.index == 'cold']\n",
        "# Calculate enthalpy difference and heat load\n",
        "cold_df['EnthalpyDifference'] = cold_df['Ttarget'] - cold_df['Tsupply']\n",
        "cold_df['HeatLoad'] = cold_df['EnthalpyDifference'] * cold_df['Cp']\n",
        "# Create a problem table\n",
        "problem_table = cold_df[['Ttarget', 'EnthalpyDifference', 'Cp', 'HeatLoad']].copy()\n",
        "problem_table.reset_index(drop=True, inplace=True)\n",
        "# Display the problem table\n",
        "print(\"Problem Table:\")\n",
        "print(problem_table)"
      ]
    }
  ]
}