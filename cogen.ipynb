{
  "nbformat": 4,
  "nbformat_minor": 0,
  "metadata": {
    "colab": {
      "provenance": [],
      "authorship_tag": "ABX9TyMdMI+T4ImM0JeyrDN6aH6v",
      "include_colab_link": true
    },
    "kernelspec": {
      "name": "python3",
      "display_name": "Python 3"
    },
    "language_info": {
      "name": "python"
    }
  },
  "cells": [
    {
      "cell_type": "markdown",
      "metadata": {
        "id": "view-in-github",
        "colab_type": "text"
      },
      "source": [
        "<a href=\"https://colab.research.google.com/github/LD-Shell/IT-Automation-with-Python/blob/master/cogen.ipynb\" target=\"_parent\"><img src=\"https://colab.research.google.com/assets/colab-badge.svg\" alt=\"Open In Colab\"/></a>"
      ]
    },
    {
      "cell_type": "markdown",
      "source": [
        "**Chemical engineering CHP thermo analysis**"
      ],
      "metadata": {
        "id": "9WyxXV69iVIX"
      }
    },
    {
      "cell_type": "code",
      "execution_count": 5,
      "metadata": {
        "id": "dwDdRjk-dzRK"
      },
      "outputs": [],
      "source": [
        "#!/usr/bin/env python3\n",
        "#shebang tells OS what command to use to execute the script\n",
        "import numpy as np\n",
        "import pandas as pd\n",
        "# user_input- gets process input from the user\n",
        "def source_data():\n",
        "  ts_temps = input(\"Enter supply temperature values (separated by spaces or commas): \")\n",
        "  tt_temps = input(\"Enter target temperature values (separated by spaces or commas): \")\n",
        "  cp_temps = input(\"Enter heat capacity values if available (separated by spaces or commas): \")\n",
        "  q_values = input(\"Enter values for heat duty if available (separated by spaces or commas, optional): \")\n",
        "\n",
        "  # Convert input temperatures to lists of integers\n",
        "  ts_list = [int(temp) for temp in ts_temps.split()]\n",
        "  tt_list = [int(temp) for temp in tt_temps.split()]\n",
        "  cp_list = [int(temp) for temp in cp_temps.split()]\n",
        "\n",
        "  # Calculate heating duties if not provided\n",
        "  q_list = []\n",
        "  if q_values:\n",
        "    q_list = [int(value) for value in q_values.split()]\n",
        "  else:\n",
        "    q_list = [(tt - ts) * cp for ts, tt, cp in zip(ts_list, tt_list, cp_list)]\n",
        "\n",
        "  # Create a list for the 'hot' and 'cold' labels based on Ts and Tt\n",
        "  label_list = ['hot' if ts > tt else 'cold' for ts, tt in zip(ts_list, tt_list)]\n",
        "\n",
        "  # Create a Pandas DataFrame with the calculated data\n",
        "  data = {'Tsupply': ts_list, 'Ttarget': tt_list, 'Cp': cp_list, 'Q': q_list}\n",
        "  df = pd.DataFrame(data, index=label_list)\n",
        "\n",
        "  # Display the DataFrame\n",
        "  print(\"You entered:\")\n",
        "  print(df)\n",
        "\n",
        "\n",
        "def allcall(source_data):\n",
        "  source_data()\n",
        "\n",
        "\n"
      ]
    }
  ]
}