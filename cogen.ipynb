{
  "nbformat": 4,
  "nbformat_minor": 0,
  "metadata": {
    "colab": {
      "provenance": [],
      "authorship_tag": "ABX9TyPHgZ3ys96cR6PgZH1aYn/P",
      "include_colab_link": true
    },
    "kernelspec": {
      "name": "python3",
      "display_name": "Python 3"
    },
    "language_info": {
      "name": "python"
    }
  },
  "cells": [
    {
      "cell_type": "markdown",
      "metadata": {
        "id": "view-in-github",
        "colab_type": "text"
      },
      "source": [
        "<a href=\"https://colab.research.google.com/github/LD-Shell/IT-Automation-with-Python/blob/master/cogen.ipynb\" target=\"_parent\"><img src=\"https://colab.research.google.com/assets/colab-badge.svg\" alt=\"Open In Colab\"/></a>"
      ]
    },
    {
      "cell_type": "code",
      "execution_count": 1,
      "metadata": {
        "id": "dwDdRjk-dzRK"
      },
      "outputs": [],
      "source": [
        "#!/usr/bin/env python3\n",
        "#shebang tells OS what command to use to execute the script\n",
        "def allcall(source_data):\n",
        "\n"
      ]
    }
  ]
}