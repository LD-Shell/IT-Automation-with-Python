{
  "nbformat": 4,
  "nbformat_minor": 0,
  "metadata": {
    "colab": {
      "provenance": [],
      "authorship_tag": "ABX9TyP0+U8jLvX2pU+JQwZIY30w",
      "include_colab_link": true
    },
    "kernelspec": {
      "name": "python3",
      "display_name": "Python 3"
    },
    "language_info": {
      "name": "python"
    }
  },
  "cells": [
    {
      "cell_type": "markdown",
      "metadata": {
        "id": "view-in-github",
        "colab_type": "text"
      },
      "source": [
        "<a href=\"https://colab.research.google.com/github/LD-Shell/IT-Automation-with-Python/blob/master/cogen.ipynb\" target=\"_parent\"><img src=\"https://colab.research.google.com/assets/colab-badge.svg\" alt=\"Open In Colab\"/></a>"
      ]
    },
    {
      "cell_type": "markdown",
      "source": [
        "**Chemical engineering CHP thermo analysis**"
      ],
      "metadata": {
        "id": "9WyxXV69iVIX"
      }
    },
    {
      "cell_type": "code",
      "execution_count": 9,
      "metadata": {
        "id": "dwDdRjk-dzRK"
      },
      "outputs": [],
      "source": [
        "#!/usr/bin/env python3\n",
        "#shebang tells OS what command to use to execute the script\n",
        "import numpy as np\n",
        "import pandas as pd\n",
        "# user_input- gets process input from the user\n",
        "def source_data():\n",
        "  ts_temps = input(\"Enter supply temperature values (separated by spaces or commas): \")\n",
        "  tt_temps = input(\"Enter target temperature values (separated by spaces or commas): \")\n",
        "  cp_temps = input(\"Enter heat capacity values if available (separated by spaces or commas): \")\n",
        "  q_values = input(\"Enter values for heat duty if available (separated by spaces or commas, optional): \")\n",
        "\n",
        "  # Convert input temperatures to lists of integers\n",
        "  ts_list = [float(temp) for temp in ts_temps.split()]\n",
        "  tt_list = [float(temp) for temp in tt_temps.split()]\n",
        "  cp_list = [float(temp) for temp in cp_temps.split()]\n",
        "\n",
        "  # Calculate heating duties if not provided\n",
        "  q_list = []\n",
        "  if q_values:\n",
        "    q_list = [float(value) for value in q_values.split()]\n",
        "  else:\n",
        "    q_list = [(tt - ts) * cp for ts, tt, cp in zip(ts_list, tt_list, cp_list)]\n",
        "\n",
        "  # Label each stream as hot or cold\n",
        "  label_list = ['hot' if ts > tt else 'cold' for ts, tt in zip(ts_list, tt_list)]\n",
        "\n",
        "  # Create a dataframe with the calculated source data\n",
        "  input_data = {\n",
        "    'Tsupply': ['{:.1f}'.format(ts) for ts in ts_list],\n",
        "    'Ttarget': ['{:.1f}'.format(tt) for tt in tt_list],\n",
        "    'Cp': ['{:.2f}'.format(cp) for cp in cp_list],\n",
        "    'Q': ['{:.2f}'.format(q) for q in q_list] }\n",
        "  df = pd.DataFrame(input_data, index=label_list)\n",
        "\n",
        "  # Display the DataFrame\n",
        "  print(\"You entered:\")\n",
        "  print(df)"
      ]
    }
  ]
}